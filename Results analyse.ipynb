{
 "cells": [
  {
   "cell_type": "code",
   "execution_count": 1,
   "metadata": {},
   "outputs": [],
   "source": [
    "import json\n",
    "import matplotlib.pyplot as plt"
   ]
  },
  {
   "cell_type": "code",
   "execution_count": 2,
   "metadata": {},
   "outputs": [],
   "source": [
    "with open('/home/anomaly/emodetection/grid_search_histories.json') as f:\n",
    "    history = json.load(f)"
   ]
  },
  {
   "cell_type": "code",
   "execution_count": 11,
   "metadata": {},
   "outputs": [],
   "source": [
    "models = list(history.keys())"
   ]
  },
  {
   "cell_type": "code",
   "execution_count": 64,
   "metadata": {},
   "outputs": [
    {
     "data": {
      "text/plain": [
       "[0.9975035106880948,\n",
       " 1.0,\n",
       " 1.0,\n",
       " 1.0,\n",
       " 1.0,\n",
       " 1.0,\n",
       " 1.0,\n",
       " 1.0,\n",
       " 1.0,\n",
       " 1.0,\n",
       " 1.0,\n",
       " 1.0,\n",
       " 1.0,\n",
       " 1.0,\n",
       " 1.0,\n",
       " 0.999998852482711,\n",
       " 0.9999979817099087,\n",
       " 0.9999980977943487,\n",
       " 0.9999981950459902,\n",
       " 0.9999982946133684,\n",
       " 0.9999954189705875,\n",
       " 0.9999823293758082,\n",
       " 0.9994209423826309,\n",
       " 0.9993921934600404,\n",
       " 0.9993830401805545,\n",
       " 0.9994048436600549,\n",
       " 0.9994227465182278,\n",
       " 0.9994437996618348,\n",
       " 0.9994633687902192,\n",
       " 0.9994815071932257,\n",
       " 0.9994975619819053,\n",
       " 0.9995125669327443,\n",
       " 0.9995265121503858,\n",
       " 0.999540679548549,\n",
       " 0.9995532999508911,\n",
       " 0.9995534085487126,\n",
       " 0.9995648596435204,\n",
       " 0.9995764886129477,\n",
       " 0.9995875109709598,\n",
       " 0.9995979744831138,\n",
       " 0.9996079207675694,\n",
       " 0.9996173856670947,\n",
       " 0.9996264055080655,\n",
       " 0.9996350099858525,\n",
       " 0.9996432265451907,\n",
       " 0.9996510810962909,\n",
       " 0.9996585975777323,\n",
       " 0.9996657952873211,\n",
       " 0.9996726989913497,\n",
       " 0.9996793211892161]"
      ]
     },
     "execution_count": 64,
     "metadata": {},
     "output_type": "execute_result"
    }
   ],
   "source": [
    "min([history[model]['recall'] for model in models])"
   ]
  },
  {
   "cell_type": "code",
   "execution_count": 60,
   "metadata": {},
   "outputs": [
    {
     "name": "stdout",
     "output_type": "stream",
     "text": [
      "cod_20_clu_32_mlu_160\n"
     ]
    },
    {
     "data": {
      "image/png": "[encoded data removed]",
      "text/plain": [
       "<Figure size 432x288 with 1 Axes>"
      ]
     },
     "metadata": {},
     "output_type": "display_data"
    },
    {
     "name": "stdout",
     "output_type": "stream",
     "text": [
      "[0.9263925729721976, 0.9292011233829898, 0.8975659229022922, 0.8198236854144463, 0.6286862225182103, 0.7106412856733954, 0.7161023560710883, 0.6447573724170987, 0.6712045560836941, 0.4895849586332955]\n"
     ]
    },
    {
     "data": {
      "text/plain": [
       "[0.904509283714227,\n",
       " 0.9089301503621615,\n",
       " 0.8556587092123866,\n",
       " 0.626215738548208,\n",
       " 0.8008399645803672,\n",
       " 0.46949602111475747,\n",
       " 0.8156498674794069,\n",
       " 0.6094164454652397,\n",
       " 0.6642351901499599,\n",
       " 0.6828028292491518]"
      ]
     },
     "execution_count": 60,
     "metadata": {},
     "output_type": "execute_result"
    }
   ],
   "source": [
    "model = models[35]\n",
    "print(model)\n",
    "plt.plot(history[model]['precision'])\n",
    "plt.plot(history[model]['val_precision'])\n",
    "plt.title('model accuracy')\n",
    "plt.ylabel('accuracy')\n",
    "plt.xlabel('epoch')\n",
    "plt.legend(['train', 'test'], loc='upper left')\n",
    "plt.show()\n",
    "\n",
    "print(history[model]['acc'][20:30])\n",
    "history[model]['val_acc'][20:30]"
   ]
  },
  {
   "cell_type": "code",
   "execution_count": null,
   "metadata": {},
   "outputs": [],
   "source": [
    "# summarize history for accuracy\n"
   ]
  }
 ],
 "metadata": {
  "kernelspec": {
   "display_name": "Python 3",
   "language": "python",
   "name": "python3"
  },
  "language_info": {
   "codemirror_mode": {
    "name": "ipython",
    "version": 3
   },
   "file_extension": ".py",
   "mimetype": "text/x-python",
   "name": "python",
   "nbconvert_exporter": "python",
   "pygments_lexer": "ipython3",
   "version": "3.6.5"
  }
 },
 "nbformat": 4,
 "nbformat_minor": 2
}
